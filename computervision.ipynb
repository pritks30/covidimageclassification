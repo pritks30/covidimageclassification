{
  "nbformat": 4,
  "nbformat_minor": 0,
  "metadata": {
    "colab": {
      "provenance": []
    },
    "kernelspec": {
      "name": "python3",
      "display_name": "Python 3"
    },
    "language_info": {
      "name": "python"
    }
  },
  "cells": [
    {
      "cell_type": "code",
      "execution_count": null,
      "metadata": {
        "id": "V8N109KQHRF-"
      },
      "outputs": [],
      "source": [
        "import tensorflow as tf\n",
        "import numpy as np\n",
        "from tensorflow.keras.layers import Dense, Flatten, Input\n",
        "from tensorflow.keras.preprocessing.image import ImageDataGenerator\n",
        "from sklearn.metrics import confusion_matrix\n",
        "from tensorflow.keras import layers\n",
        "from os import listdir"
      ]
    },
    {
      "cell_type": "code",
      "source": [
        "from google.colab import drive\n",
        "drive.mount('/content/drive')"
      ],
      "metadata": {
        "colab": {
          "base_uri": "https://localhost:8080/"
        },
        "id": "j4Q2HIDwH7Jd",
        "outputId": "24b510bb-cc8d-4039-a2b1-f086ca8b02a9"
      },
      "execution_count": null,
      "outputs": [
        {
          "output_type": "stream",
          "name": "stdout",
          "text": [
            "Mounted at /content/drive\n"
          ]
        }
      ]
    },
    {
      "cell_type": "code",
      "source": [
        "!ls '/content/drive/MyDrive/covidDetection /train'"
      ],
      "metadata": {
        "colab": {
          "base_uri": "https://localhost:8080/"
        },
        "id": "xeP_0YD7IKLc",
        "outputId": "b3fc449e-17bf-48e8-8b76-deecf41a363d"
      },
      "execution_count": null,
      "outputs": [
        {
          "output_type": "stream",
          "name": "stdout",
          "text": [
            "bacterial_viral  COVID\n"
          ]
        }
      ]
    },
    {
      "cell_type": "code",
      "source": [
        "data_list_model2c = listdir('/content/drive/MyDrive/covidDetection /train')\n",
        "data_list_model2c"
      ],
      "metadata": {
        "colab": {
          "base_uri": "https://localhost:8080/"
        },
        "id": "v3Wr4yKiIZl6",
        "outputId": "c030056b-c0d2-4a85-ca78-58413f119a98"
      },
      "execution_count": null,
      "outputs": [
        {
          "output_type": "execute_result",
          "data": {
            "text/plain": [
              "['COVID', 'bacterial_viral']"
            ]
          },
          "metadata": {},
          "execution_count": 7
        }
      ]
    },
    {
      "cell_type": "code",
      "source": [
        "DATASET_PATH_model2c = '/content/drive/MyDrive/covidDetection /train'\n",
        "train_dir_model2c = '/content/drive/MyDrive/covidDetection /train'\n",
        "test_dir_model2c = '/content/drive/MyDrive/covidDetection /test'"
      ],
      "metadata": {
        "id": "BvqAnekgIjNj"
      },
      "execution_count": null,
      "outputs": []
    },
    {
      "cell_type": "code",
      "source": [
        " IMAGE_SIZE = (150,150)\n",
        "NUM_CLASSES = len(data_list_model2c)\n",
        "BATCH_SIZE = 10\n",
        "NUM_EPOCHS = 100\n",
        "LEARNING_RATE = 0.0001"
      ],
      "metadata": {
        "id": "qgY9InjOJlF_"
      },
      "execution_count": null,
      "outputs": []
    },
    {
      "cell_type": "code",
      "source": [
        " train_datagen = ImageDataGenerator(rescale=1./255,\n",
        "                                   rotation_range=50,\n",
        "                                   featurewise_center=True,\n",
        "                                   featurewise_std_normalization=True,\n",
        "                                   width_shift_range=0.2,\n",
        "                                   height_shift_range=0.2,\n",
        "                                   shear_range=0.25,\n",
        "                                   zoom_range=0.1,\n",
        "                                   zca_whitening = True,\n",
        "                                   channel_shift_range=20,\n",
        "                                   horizontal_flip=True,\n",
        "                                   vertical_flip=True,\n",
        "                                   fill_mode='constant')\n"
      ],
      "metadata": {
        "colab": {
          "base_uri": "https://localhost:8080/"
        },
        "id": "eMDoeexeJ93l",
        "outputId": "1e4a8307-2840-4f1f-871a-af9a548ca20d"
      },
      "execution_count": null,
      "outputs": [
        {
          "output_type": "stream",
          "name": "stderr",
          "text": [
            "/usr/local/lib/python3.10/dist-packages/keras/src/legacy/preprocessing/image.py:1054: UserWarning: This ImageDataGenerator specifies `zca_whitening` which overrides setting of`featurewise_std_normalization`.\n",
            "  warnings.warn(\n"
          ]
        }
      ]
    },
    {
      "cell_type": "code",
      "source": [
        " train_batches =train_datagen.flow_from_directory(DATASET_PATH_model2c,\n",
        "                                                 target_size=IMAGE_SIZE,\n",
        "                                                 shuffle=True,\n",
        "                                                 batch_size=BATCH_SIZE,\n",
        "                                                 subset = \"training\",\n",
        "                                                 seed=42,\n",
        "                                                 class_mode=\"categorical\")"
      ],
      "metadata": {
        "colab": {
          "base_uri": "https://localhost:8080/"
        },
        "id": "-whd8PahLPPo",
        "outputId": "35ba4632-dd0f-411f-e963-612bf184a461"
      },
      "execution_count": null,
      "outputs": [
        {
          "output_type": "stream",
          "name": "stdout",
          "text": [
            "Found 175 images belonging to 2 classes.\n"
          ]
        }
      ]
    },
    {
      "cell_type": "code",
      "source": [
        "valid_batches = train_datagen.flow_from_directory(DATASET_PATH_model2c,\n",
        "                                                 target_size=IMAGE_SIZE,\n",
        "                                                 shuffle=True,\n",
        "                                                 batch_size=BATCH_SIZE,\n",
        "                                                 subset = \"validation\",\n",
        "                                                 seed=42,\n",
        "                                                 class_mode=\"categorical\")\n"
      ],
      "metadata": {
        "colab": {
          "base_uri": "https://localhost:8080/"
        },
        "id": "F2SH1sD3MEUo",
        "outputId": "9aeb63bc-9569-4dac-a5bf-47e22186e956"
      },
      "execution_count": null,
      "outputs": [
        {
          "output_type": "stream",
          "name": "stdout",
          "text": [
            "Found 0 images belonging to 2 classes.\n"
          ]
        }
      ]
    },
    {
      "cell_type": "code",
      "source": [
        "vgg16_model = tf.keras.applications.vgg16.VGG16(weights='imagenet',include_top=False,input_tensor=Input(shape=(150,150,3)))"
      ],
      "metadata": {
        "colab": {
          "base_uri": "https://localhost:8080/"
        },
        "id": "flEL4ySdMems",
        "outputId": "07d4756e-85b4-48f5-ebeb-065c5c1443b0"
      },
      "execution_count": null,
      "outputs": [
        {
          "output_type": "stream",
          "name": "stdout",
          "text": [
            "Downloading data from https://storage.googleapis.com/tensorflow/keras-applications/vgg16/vgg16_weights_tf_dim_ordering_tf_kernels_notop.h5\n",
            "\u001b[1m58889256/58889256\u001b[0m \u001b[32m━━━━━━━━━━━━━━━━━━━━\u001b[0m\u001b[37m\u001b[0m \u001b[1m0s\u001b[0m 0us/step\n"
          ]
        }
      ]
    },
    {
      "cell_type": "code",
      "source": [
        " for layer in vgg16_model.layers[:-4]:\n",
        "  layer.trainable = False\n",
        "model2c = tf.keras.Sequential()\n",
        "model2c.add(vgg16_model)\n",
        "model2c.add(Flatten())\n",
        "model2c.add(Dense(64,activation='relu'))\n",
        "model2c.add(Dense(2,activation='softmax'))"
      ],
      "metadata": {
        "id": "_AfQIWSHNwPJ"
      },
      "execution_count": null,
      "outputs": []
    },
    {
      "cell_type": "code",
      "source": [
        "model2c.compile(loss='categorical_crossentropy',optimizer=tf.keras.optimizers.Adam(learning_rate=LEARNING_RATE),metrics=['accuracy'])"
      ],
      "metadata": {
        "id": "l8JOx71pOJyU"
      },
      "execution_count": null,
      "outputs": []
    },
    {
      "cell_type": "code",
      "source": [
        "STEP_SIZE_TRAIN = train_batches.n//train_batches.batch_size\n",
        "STEP_SIZE_VALID = valid_batches.n//valid_batches.batch_size\n"
      ],
      "metadata": {
        "id": "JTUgG-U3OV-Z"
      },
      "execution_count": null,
      "outputs": []
    },
    {
      "cell_type": "code",
      "source": [
        "model2c.fit(train_batches, steps_per_epoch=STEP_SIZE_TRAIN, epochs= 5, verbose=True)"
      ],
      "metadata": {
        "colab": {
          "base_uri": "https://localhost:8080/"
        },
        "id": "LQIaLfZvOdbh",
        "outputId": "45f2a5e4-8d0c-4b42-9091-8191ad11eb4f"
      },
      "execution_count": null,
      "outputs": [
        {
          "output_type": "stream",
          "name": "stderr",
          "text": [
            "/usr/local/lib/python3.10/dist-packages/keras/src/legacy/preprocessing/image.py:1263: UserWarning: This ImageDataGenerator specifies `featurewise_center`, but it hasn't been fit on any training data. Fit it first by calling `.fit(numpy_data)`.\n",
            "  warnings.warn(\n",
            "/usr/local/lib/python3.10/dist-packages/keras/src/legacy/preprocessing/image.py:1286: UserWarning: This ImageDataGenerator specifies `zca_whitening`, but it hasn't been fit on any training data. Fit it first by calling `.fit(numpy_data)`.\n",
            "  warnings.warn(\n"
          ]
        },
        {
          "output_type": "stream",
          "name": "stdout",
          "text": [
            "Epoch 1/5\n"
          ]
        },
        {
          "output_type": "stream",
          "name": "stderr",
          "text": [
            "/usr/local/lib/python3.10/dist-packages/keras/src/trainers/data_adapters/py_dataset_adapter.py:122: UserWarning: Your `PyDataset` class should call `super().__init__(**kwargs)` in its constructor. `**kwargs` can include `workers`, `use_multiprocessing`, `max_queue_size`. Do not pass these arguments to `fit()`, as they will be ignored.\n",
            "  self._warn_if_super_not_called()\n"
          ]
        },
        {
          "output_type": "stream",
          "name": "stdout",
          "text": [
            "\u001b[1m17/17\u001b[0m \u001b[32m━━━━━━━━━━━━━━━━━━━━\u001b[0m\u001b[37m\u001b[0m \u001b[1m88s\u001b[0m 3s/step - accuracy: 0.6053 - loss: 0.7052\n",
            "Epoch 2/5\n",
            "\u001b[1m17/17\u001b[0m \u001b[32m━━━━━━━━━━━━━━━━━━━━\u001b[0m\u001b[37m\u001b[0m \u001b[1m3s\u001b[0m 1ms/step - accuracy: 0.7000 - loss: 0.4942\n",
            "Epoch 3/5\n"
          ]
        },
        {
          "output_type": "stream",
          "name": "stderr",
          "text": [
            "/usr/lib/python3.10/contextlib.py:153: UserWarning: Your input ran out of data; interrupting training. Make sure that your dataset or generator can generate at least `steps_per_epoch * epochs` batches. You may need to use the `.repeat()` function when building your dataset.\n",
            "  self.gen.throw(typ, value, traceback)\n"
          ]
        },
        {
          "output_type": "stream",
          "name": "stdout",
          "text": [
            "\u001b[1m17/17\u001b[0m \u001b[32m━━━━━━━━━━━━━━━━━━━━\u001b[0m\u001b[37m\u001b[0m \u001b[1m62s\u001b[0m 3s/step - accuracy: 0.8665 - loss: 0.3805\n",
            "Epoch 4/5\n",
            "\u001b[1m17/17\u001b[0m \u001b[32m━━━━━━━━━━━━━━━━━━━━\u001b[0m\u001b[37m\u001b[0m \u001b[1m4s\u001b[0m 998us/step - accuracy: 0.9000 - loss: 0.2225\n",
            "Epoch 5/5\n",
            "\u001b[1m17/17\u001b[0m \u001b[32m━━━━━━━━━━━━━━━━━━━━\u001b[0m\u001b[37m\u001b[0m \u001b[1m77s\u001b[0m 3s/step - accuracy: 0.8742 - loss: 0.2423\n"
          ]
        },
        {
          "output_type": "execute_result",
          "data": {
            "text/plain": [
              "<keras.src.callbacks.history.History at 0x7a9dab5c17e0>"
            ]
          },
          "metadata": {},
          "execution_count": 22
        }
      ]
    },
    {
      "cell_type": "code",
      "source": [
        "# Evaluate the model\n",
        "trainResult = model2c.evaluate(\n",
        "    TrainBatch,  # Generator object\n",
        "    steps=len(TrainBatch),\n",
        "    use_multiprocessing=False,\n",
        "    verbose=1,\n",
        "    workers=1\n",
        ")\n",
        "print('Train loss:', trainResult[0], 'Train accuracy:', trainResult[1])\n",
        "\n",
        "# Predict using the model\n",
        "prediction = model2c.predict(\n",
        "    TrainBatch,  # Generator object\n",
        "    steps=len(TrainBatch),\n",
        "    verbose=1\n",
        ")\n",
        "\n",
        "# Convert predictions to class indices\n",
        "Predicted_class = np.argmax(prediction, axis=1)\n",
        "\n",
        "# Print confusion matrix\n",
        "print(confusion_matrix(TrainBatch.classes, Predicted_class))\n"
      ],
      "metadata": {
        "id": "yZ5b1Nh9TCYE"
      },
      "execution_count": null,
      "outputs": []
    },
    {
      "cell_type": "code",
      "source": [
        "Train_DataGeneration = ImageDataGenerator(rescale=1./255)\n",
        "TrainBatch = Train_DataGeneration.flow_from_directory(train_dir_model2c,target_size=IMAGE_SIZE,batch_size=1,shuffle=False,seed=42,class_mode='categorical')\n",
        "TrainBatch.reset()\n",
        "# Evaluate the model\n",
        "trainResult = model2c.evaluate(\n",
        "    TrainBatch,  # Generator object\n",
        "    steps=len(TrainBatch),\n",
        "    verbose=1\n",
        ")\n",
        "print('Train loss:', trainResult[0], 'Train accuracy:', trainResult[1])\n",
        "\n",
        "# Predict using the model\n",
        "prediction = model2c.predict(\n",
        "    TrainBatch,  # Generator object\n",
        "    steps=len(TrainBatch),\n",
        "    verbose=1\n",
        ")\n",
        "\n",
        "# Convert predictions to class indices\n",
        "Predicted_class = np.argmax(prediction, axis=1)\n",
        "\n",
        "# Print confusion matrix\n",
        "print(confusion_matrix(TrainBatch.classes, Predicted_class))\n"
      ],
      "metadata": {
        "colab": {
          "base_uri": "https://localhost:8080/"
        },
        "id": "15GQRXPEQEzD",
        "outputId": "3e9f7ad5-8d3e-4f19-9761-0faf2d8ee4a1"
      },
      "execution_count": null,
      "outputs": [
        {
          "output_type": "stream",
          "name": "stdout",
          "text": [
            "Found 175 images belonging to 2 classes.\n"
          ]
        },
        {
          "output_type": "stream",
          "name": "stderr",
          "text": [
            "/usr/local/lib/python3.10/dist-packages/keras/src/trainers/data_adapters/py_dataset_adapter.py:122: UserWarning: Your `PyDataset` class should call `super().__init__(**kwargs)` in its constructor. `**kwargs` can include `workers`, `use_multiprocessing`, `max_queue_size`. Do not pass these arguments to `fit()`, as they will be ignored.\n",
            "  self._warn_if_super_not_called()\n"
          ]
        },
        {
          "output_type": "stream",
          "name": "stdout",
          "text": [
            "\u001b[1m175/175\u001b[0m \u001b[32m━━━━━━━━━━━━━━━━━━━━\u001b[0m\u001b[37m\u001b[0m \u001b[1m55s\u001b[0m 305ms/step - accuracy: 0.7000 - loss: 0.6339\n",
            "Train loss: 0.39588266611099243 Train accuracy: 0.8171428442001343\n",
            "\u001b[1m175/175\u001b[0m \u001b[32m━━━━━━━━━━━━━━━━━━━━\u001b[0m\u001b[37m\u001b[0m \u001b[1m80s\u001b[0m 456ms/step\n",
            "[[ 43  32]\n",
            " [  0 100]]\n"
          ]
        }
      ]
    },
    {
      "cell_type": "code",
      "source": [
        "# Evaluate the model on the testing set\n",
        "testResult = model2c.evaluate(\n",
        "    TestingBatch,  # Generator object\n",
        "    steps=len(TestingBatch),\n",
        "    verbose=1\n",
        ")\n",
        "print('Test loss:', testResult[0], 'Test accuracy:', testResult[1])\n",
        "\n",
        "# Make predictions\n",
        "prediction = model2c.predict(\n",
        "    TestingBatch,\n",
        "    steps=len(TestingBatch)\n",
        ")\n",
        "Predicted_class = np.argmax(prediction, axis=1)\n",
        "\n",
        "# Print confusion matrix\n",
        "from sklearn.metrics import confusion_matrix\n",
        "print(confusion_matrix(TestingBatch.classes, Predicted_class))\n"
      ],
      "metadata": {
        "id": "Obff-eqmVE4M"
      },
      "execution_count": null,
      "outputs": []
    },
    {
      "cell_type": "code",
      "source": [
        "Test_DataGeneration = ImageDataGenerator(rescale=1./255)\n",
        "TestingBatch = Test_DataGeneration.flow_from_directory(test_dir_model2c,target_size=IMAGE_SIZE,batch_size=1,shuffle=False,seed=42,class_mode='categorical')\n",
        "TestingBatch.reset()\n",
        "# Evaluate the model on the testing set\n",
        "testResult = model2c.evaluate(\n",
        "    TestingBatch,  # Generator object\n",
        "    steps=len(TestingBatch),\n",
        "    verbose=1\n",
        ")\n",
        "print('Test loss:', testResult[0], 'Test accuracy:', testResult[1])\n",
        "\n",
        "# Make predictions\n",
        "prediction = model2c.predict(\n",
        "    TestingBatch,\n",
        "    steps=len(TestingBatch)\n",
        ")\n",
        "Predicted_class = np.argmax(prediction, axis=1)\n",
        "\n",
        "# Print confusion matrix\n",
        "from sklearn.metrics import confusion_matrix\n",
        "print(confusion_matrix(TestingBatch.classes, Predicted_class))\n"
      ],
      "metadata": {
        "colab": {
          "base_uri": "https://localhost:8080/"
        },
        "id": "Dagz5zJTTuVf",
        "outputId": "24f4afcd-cd0e-461d-9663-5c5d4662eae7"
      },
      "execution_count": null,
      "outputs": [
        {
          "output_type": "stream",
          "name": "stdout",
          "text": [
            "Found 50 images belonging to 2 classes.\n"
          ]
        },
        {
          "output_type": "stream",
          "name": "stderr",
          "text": [
            "/usr/local/lib/python3.10/dist-packages/keras/src/trainers/data_adapters/py_dataset_adapter.py:122: UserWarning: Your `PyDataset` class should call `super().__init__(**kwargs)` in its constructor. `**kwargs` can include `workers`, `use_multiprocessing`, `max_queue_size`. Do not pass these arguments to `fit()`, as they will be ignored.\n",
            "  self._warn_if_super_not_called()\n"
          ]
        },
        {
          "output_type": "stream",
          "name": "stdout",
          "text": [
            "\u001b[1m50/50\u001b[0m \u001b[32m━━━━━━━━━━━━━━━━━━━━\u001b[0m\u001b[37m\u001b[0m \u001b[1m18s\u001b[0m 363ms/step - accuracy: 0.5243 - loss: 0.9946\n",
            "Test loss: 0.5331205129623413 Test accuracy: 0.7200000286102295\n",
            "\u001b[1m50/50\u001b[0m \u001b[32m━━━━━━━━━━━━━━━━━━━━\u001b[0m\u001b[37m\u001b[0m \u001b[1m17s\u001b[0m 336ms/step\n",
            "[[11 14]\n",
            " [ 0 25]]\n"
          ]
        }
      ]
    },
    {
      "cell_type": "code",
      "source": [],
      "metadata": {
        "id": "Tfs7mTWsVWLq"
      },
      "execution_count": null,
      "outputs": []
    }
  ]
}